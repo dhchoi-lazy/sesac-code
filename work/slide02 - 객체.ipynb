{
 "cells": [
  {
   "cell_type": "markdown",
   "metadata": {},
   "source": [
    "## 객체 (Object)\n",
    "\n",
    "> “Everything is an object in Python(파이썬에서 모든 것은 객체이다.).”\n",
    "\n",
    "<aside>\n",
    "\n",
    "**object**\n",
    "\n",
    "Any data with **state (attributes or value)** and **defined behavior (methods)**. Also the ultimate base class of any [new-style class](https://docs.python.org/3/glossary.html#term-new-style-class).\n",
    "link: https://docs.python.org/3/glossary.html\n",
    "\n",
    "</aside>\n",
    "\n",
    "현실세계의 개별 존재(Entity)를 가상 세계에서는 객체(Object)라고 부른다. 객체는 **상태(또는 속성, 값)** 라는 정적인 요소와 **동작(또는 메소드)** 이라는 동적인 요소 두 가지를 갖는다.\n"
   ]
  },
  {
   "cell_type": "markdown",
   "metadata": {},
   "source": [
    "## 객체와 클래스와의 관계\n",
    "\n",
    "### 철학으로 이해하기\n",
    "\n",
    "> 만일 인간이 다음과 같은 지하동굴에 살고 있다고 가정해보세. 동굴 안쪽에 죄수들이 앉아 있는데 그들의 사지와 목은 어렸을 때부터 묶여 있네. 그러므로 꼼짝도 못하고 안쪽의 벽면만 바라볼 수밖에 없지. 그들 뒤쪽의 동굴 입구에는 횃불이 타오르고 있고 이 횃불과 죄수들 사이에는 담장 비슷한 것이 세워져 있네. 담장 비슷하다는 것은, 담장이긴 하지만 그 생김새가 인형극을 할 수 있는 공연 무대의 휘장과도 같다는 뜻이지. 공연하는 사람이 관객들에게 이 휘장 위로 인형들을 보여줄 수 있는 것 같은 구조를 지녔다고 상상하면 되네. (198-199) https://wishthewind.tistory.com/302\n",
    "\n",
    "![img1.daumcdn.jpg](../resources/object0.jpg)\n",
    "\n",
    "**플라톤의 이데아론**\n",
    "\n",
    "> 이데아는 현상 세계 밖의 세상이며 이데아는 모든 사물의 원인이자 [본질](https://ko.wikipedia.org/wiki/%EB%B3%B8%EC%A7%88)이다. 예를 들면 인간의 이데아는 현실 세계의 인간에 대한 원인으로, 인간의 이데아가 있기 때문에 현상 세계에 인간이 실재하는 것을 들 수 있다. 또한,중요한 것은 현상 세계에서 모든 것들은 낡고 사라지는 것에 반해, 이데아는 시간이 흘러도 그 모습을 변치 않으며 현상 세계의 사물들이 궁극적으로 되고자 하는 것이 이데아라는 점이다. 이데아론에서 이데아는 오로지 인간의 이성으로만 알 수 있으며, 원래 인간이 있던 곳이다. 그런데 플라톤은 인간이 현실세계로 오면서 [레테의 강](https://ko.wikipedia.org/wiki/%EB%A0%88%ED%85%8C%EC%9D%98_%EA%B0%95)을 건너게 되어 이데아 세계에 대한 기억을 상실하여 이데아를 기억해 내지 못한다고 주장한다.\n",
    "> [https://ko.wikipedia.org/wiki/이데아론](https://ko.wikipedia.org/wiki/%EC%9D%B4%EB%8D%B0%EC%95%84%EB%A1%A0)\n",
    "\n",
    "클래스 —> 이데아\n",
    "\n",
    "객체 —> 그림자\n",
    "\n",
    "### 게임으로 이해하기\n",
    "\n",
    "![43HCPF4GH6S61499111046989.gif](../resources/object1.png)\n",
    "\n",
    "![1_xiYI_rl-_pX_27BAjxBL3g.png](../resources/object2.gif)\n",
    "\n",
    "### 컴퓨터공학으로 이해하기\n",
    "\n",
    "![maxresdefault.jpg](../resources/object3.jpg)\n",
    "\n",
    "| 클래스                      | 객체                        |\n",
    "| --------------------------- | --------------------------- |\n",
    "| 데이터에 대한 “논리적” 표현 | 데이터에 대한 “물리적” 표현 |\n",
    "| 메모리를 할당하지 않음.     | 메모리를 할당해야 함.       |\n",
    "| 한 번만 선언될 수 있음.     | 여러 번 호출될 수 있음.     |\n",
    "| …                           | …                           |\n",
    "\n",
    "> **“객체는 메모리에 저장된다.”**\n"
   ]
  },
  {
   "cell_type": "markdown",
   "metadata": {},
   "source": [
    "## 실습\n",
    "\n",
    "### 피카츄를 현실세계로 소환해 보자.\n"
   ]
  },
  {
   "cell_type": "code",
   "execution_count": null,
   "metadata": {},
   "outputs": [],
   "source": [
    "class Pikachu:\n",
    "    def __init__(self, name=\"그냥 피카츄\"):\n",
    "        self.name = name\n",
    "        self.health = 100\n",
    "        self.level = 1\n",
    "        self.attack_power = 10\n",
    "\n",
    "    def __repr__(self):\n",
    "        return \"Pika Pika!\"\n",
    "\n",
    "    def attack(self, target = None):\n",
    "        if target is None:\n",
    "            print(f\"{self.name}는 공격할 상대가 필요해요 ㅜㅜ\")\n",
    "            return\n",
    "\n",
    "        damage = self.attack_power * self.level\n",
    "        print(f\"{self.name}가 {target.name}를 {damage}의 데미지로 공격했다!\")\n",
    "        target.be_attacked(damage, self)  \n",
    "        \n",
    "\n",
    "    def be_attacked(self, damage, attacker):\n",
    "        self.health -= damage\n",
    "        print(f\"{self.name}는 {damage}의 데미지만큼 {attacker.name}에게 상처를 입었다!\")\n",
    "        \n",
    "        if self.health <= 0:\n",
    "            print(f\"{self.name}는 더 이상 싸울 수 없다!\")\n",
    "            self.health = 0  \n",
    "\n",
    "    def heal(self, amount=10):\n",
    "        self.health += amount\n",
    "        if self.health > 100:\n",
    "            self.health = 100\n",
    "        print(f\"{self.name}가 체력을 {amount} 만큼 회복했다!\")"
   ]
  },
  {
   "cell_type": "code",
   "execution_count": null,
   "metadata": {},
   "outputs": [],
   "source": [
    "# 색깔별로 피카츄 소환하기\n",
    "yellow_pikachu = Pikachu(\"노란 피카츄\")\n",
    "green_pikachu = Pikachu(\"초록 피카츄\")\n",
    "red_pikachu = Pikachu(\"빨간 피카츄\")"
   ]
  },
  {
   "cell_type": "code",
   "execution_count": null,
   "metadata": {},
   "outputs": [],
   "source": [
    "yellow_pikachu"
   ]
  },
  {
   "cell_type": "code",
   "execution_count": null,
   "metadata": {},
   "outputs": [],
   "source": [
    "your_pikachu = input(\"당신의 피카츄 이름을 지어주세요. \")\n",
    "gold_pikachu = Pikachu(your_pikachu)"
   ]
  },
  {
   "cell_type": "code",
   "execution_count": null,
   "metadata": {},
   "outputs": [],
   "source": [
    "yellow_pikachu.attack(None)"
   ]
  },
  {
   "cell_type": "code",
   "execution_count": null,
   "metadata": {},
   "outputs": [],
   "source": [
    "yellow_pikachu.attack(gold_pikachu)\n",
    "# for i in range(0, 10):\n",
    "#     yellow_pika.attack(gold_pikachu)"
   ]
  }
 ],
 "metadata": {
  "kernelspec": {
   "display_name": "Python 3",
   "language": "python",
   "name": "python3"
  },
  "language_info": {
   "codemirror_mode": {
    "name": "ipython",
    "version": 3
   },
   "file_extension": ".py",
   "mimetype": "text/x-python",
   "name": "python",
   "nbconvert_exporter": "python",
   "pygments_lexer": "ipython3",
   "version": "3.10.12"
  },
  "orig_nbformat": 4
 },
 "nbformat": 4,
 "nbformat_minor": 2
}
